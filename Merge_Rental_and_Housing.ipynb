{
 "cells": [
  {
   "cell_type": "code",
   "execution_count": 6,
   "metadata": {},
   "outputs": [],
   "source": [
    "#grab dependencies\n",
    "import numpy as np\n",
    "import pandas as pd\n",
    "import seaborn as sns\n",
    "import matplotlib.pyplot as plt\n",
    "%matplotlib inline\n",
    "import os\n",
    "from functools import partial,reduce\n",
    "import seaborn as sns\n",
    "from datetime import datetime\n",
    "import plotly.plotly as py"
   ]
  },
  {
   "cell_type": "code",
   "execution_count": 38,
   "metadata": {},
   "outputs": [],
   "source": [
    "#get path\n",
    "path = os.getcwd()\n",
    "#get list of files\n",
    "county_files = os.listdir(path)\n",
    "#get only county files\n",
    "county_files = [file for file in county_files if file.startswith(\"Complete\")]\n",
    "list_gathered_data_frames = []\n",
    "for file in county_files:\n",
    "    #read in the dataframe\n",
    "    frame = pd.read_csv(file,encoding = \"ISO-8859-1\")\n",
    "    #drop 'Unnamed: 0'\n",
    "    frame.drop('Unnamed: 0',axis=1,inplace=True)\n",
    "    #add to list\n",
    "    list_gathered_data_frames.append(frame)\n",
    "\n",
    "    #final merge\n",
    "merged_frame=list_gathered_data_frames[0]\n",
    "for i in range(len(list_gathered_data_frames)-1):\n",
    "    merged_frame = pd.merge(merged_frame,list_gathered_data_frames[i+1],how=\"outer\",\n",
    "                                 on=[\"RegionName\", \"Year_Mon\",\"State\"])"
   ]
  },
  {
   "cell_type": "code",
   "execution_count": 41,
   "metadata": {},
   "outputs": [],
   "source": [
    "merged_frame.to_csv('All_Zillow_Data.csv')"
   ]
  },
  {
   "cell_type": "code",
   "execution_count": null,
   "metadata": {},
   "outputs": [],
   "source": [
    "#final merge\n",
    "merged_frame=list_gathered_data_frames[0]\n",
    "for i in range(len(list_gathered_data_frames)-1):\n",
    "    merged_frame = pd.merge(merged_frame,list_gathered_data_frames[i+1],how=\"outer\",\n",
    "                                 on=[\"RegionName\", \"Year_Mon\",\"State\"])"
   ]
  }
 ],
 "metadata": {
  "kernelspec": {
   "display_name": "Python 3",
   "language": "python",
   "name": "python3"
  },
  "language_info": {
   "codemirror_mode": {
    "name": "ipython",
    "version": 3
   },
   "file_extension": ".py",
   "mimetype": "text/x-python",
   "name": "python",
   "nbconvert_exporter": "python",
   "pygments_lexer": "ipython3",
   "version": "3.7.1"
  }
 },
 "nbformat": 4,
 "nbformat_minor": 2
}
